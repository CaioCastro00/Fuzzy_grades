{
  "nbformat": 4,
  "nbformat_minor": 0,
  "metadata": {
    "colab": {
      "provenance": [],
      "authorship_tag": "ABX9TyNKlxrP3UquXovAumwmBxzU"
    },
    "kernelspec": {
      "name": "python3",
      "display_name": "Python 3"
    },
    "language_info": {
      "name": "python"
    }
  },
  "cells": [
    {
      "cell_type": "code",
      "source": [
        "pip install scikit-fuzzy"
      ],
      "metadata": {
        "id": "5_BqjO7QOdGS"
      },
      "execution_count": null,
      "outputs": []
    },
    {
      "cell_type": "code",
      "source": [
        "import numpy as np\n",
        "import skfuzzy as fuzz\n",
        "from skfuzzy import control as ctrl\n",
        "\n",
        "# Criando as variáveis de entrada e saída\n",
        "apresentacao = ctrl.Antecedent(np.arange(0, 11, 1), 'apresentacao')\n",
        "slide = ctrl.Antecedent(np.arange(0, 11, 1), 'slide')\n",
        "solucao = ctrl.Antecedent(np.arange(0, 11, 1), 'solucao')\n",
        "nota = ctrl.Consequent(np.arange(0, 11, 1), 'nota')\n",
        "\n",
        "# Definindo as funções de pertinência para cada variável\n",
        "apresentacao['baixa'] = fuzz.trimf(apresentacao.universe, [0, 0, 5])\n",
        "apresentacao['média'] = fuzz.trimf(apresentacao.universe, [0, 5, 10])\n",
        "apresentacao['alta'] = fuzz.trimf(apresentacao.universe, [5, 10, 10])\n",
        "\n",
        "slide['baixa'] = fuzz.trimf(slide.universe, [0, 0, 5])\n",
        "slide['média'] = fuzz.trimf(slide.universe, [0, 5, 10])\n",
        "slide['alta'] = fuzz.trimf(slide.universe, [5, 10, 10])\n",
        "\n",
        "solucao['baixa'] = fuzz.trimf(solucao.universe, [0, 0, 5])\n",
        "solucao['média'] = fuzz.trimf(solucao.universe, [0, 5, 10])\n",
        "solucao['alta'] = fuzz.trimf(solucao.universe, [5, 10, 10])\n",
        "\n",
        "nota['baixa'] = fuzz.trimf(nota.universe, [0, 0, 5])\n",
        "nota['média'] = fuzz.trimf(nota.universe, [0, 5, 10])\n",
        "nota['alta'] = fuzz.trimf(nota.universe, [5, 10, 10])\n"
      ],
      "metadata": {
        "id": "J6-UUwWhOYZP"
      },
      "execution_count": 2,
      "outputs": []
    },
    {
      "cell_type": "code",
      "source": [
        "# Regras fuzzy\n",
        "rule1 = ctrl.Rule(apresentacao['baixa'] & slide['baixa'] & solucao['baixa'], nota['baixa'])\n",
        "rule2 = ctrl.Rule(apresentacao['baixa'] & slide['baixa'] & solucao['média'], nota['baixa'])\n",
        "rule3 = ctrl.Rule(apresentacao['baixa'] & slide['baixa'] & solucao['alta'], nota['média'])\n",
        "\n",
        "rule4 = ctrl.Rule(apresentacao['baixa'] & slide['média'] & solucao['baixa'], nota['baixa'])\n",
        "rule5 = ctrl.Rule(apresentacao['baixa'] & slide['média'] & solucao['média'], nota['média'])\n",
        "rule6 = ctrl.Rule(apresentacao['baixa'] & slide['média'] & solucao['alta'], nota['média'])\n",
        "\n",
        "rule7 = ctrl.Rule(apresentacao['baixa'] & slide['alta'] & solucao['baixa'], nota['baixa'])\n",
        "rule8 = ctrl.Rule(apresentacao['baixa'] & slide['alta'] & solucao['média'], nota['média'])\n",
        "rule9 = ctrl.Rule(apresentacao['baixa'] & slide['alta'] & solucao['alta'], nota['alta'])\n",
        "\n",
        "rule10 = ctrl.Rule(apresentacao['média'] & slide['baixa'] & solucao['baixa'], nota['baixa'])\n",
        "rule11 = ctrl.Rule(apresentacao['média'] & slide['baixa'] & solucao['média'], nota['média'])\n",
        "rule12 = ctrl.Rule(apresentacao['média'] & slide['baixa'] & solucao['alta'], nota['média'])\n",
        "\n",
        "rule13 = ctrl.Rule(apresentacao['média'] & slide['média'] & solucao['baixa'], nota['média'])\n",
        "rule14 = ctrl.Rule(apresentacao['média'] & slide['média'] & solucao['média'], nota['média'])\n",
        "rule15 = ctrl.Rule(apresentacao['média'] & slide['média'] & solucao['alta'], nota['alta'])\n",
        "\n",
        "rule16 = ctrl.Rule(apresentacao['média'] & slide['alta'] & solucao['baixa'], nota['média'])\n",
        "rule17 = ctrl.Rule(apresentacao['média'] & slide['alta'] & solucao['média'], nota['alta'])\n",
        "rule18 = ctrl.Rule(apresentacao['média'] & slide['alta'] & solucao['alta'], nota['alta'])\n",
        "\n",
        "rule19 = ctrl.Rule(apresentacao['alta'] & slide['baixa'] & solucao['baixa'], nota['baixa'])\n",
        "rule20 = ctrl.Rule(apresentacao['alta'] & slide['baixa'] & solucao['média'], nota['média'])\n",
        "rule21 = ctrl.Rule(apresentacao['alta'] & slide['baixa'] & solucao['alta'], nota['alta'])\n",
        "\n",
        "rule22 = ctrl.Rule(apresentacao['alta'] & slide['média'] & solucao['baixa'], nota['média'])\n",
        "rule23 = ctrl.Rule(apresentacao['alta'] & slide['média'] & solucao['média'], nota['alta'])\n",
        "rule24 = ctrl.Rule(apresentacao['alta'] & slide['média'] & solucao['alta'], nota['alta'])\n",
        "\n",
        "rule25 = ctrl.Rule(apresentacao['alta'] & slide['alta'] & solucao['baixa'], nota['alta'])\n",
        "rule26 = ctrl.Rule(apresentacao['alta'] & slide['alta'] & solucao['média'], nota['alta'])\n",
        "rule27 = ctrl.Rule(apresentacao['alta'] & slide['alta'] & solucao['alta'], nota['alta'])\n",
        "\n"
      ],
      "metadata": {
        "id": "Lx5dFWTIf5zD"
      },
      "execution_count": 3,
      "outputs": []
    },
    {
      "cell_type": "code",
      "source": [
        "# Criando o sistema de controle fuzzy\n",
        "sistema_fuzzy = ctrl.ControlSystem([rule1, rule2, rule3, rule4, rule5, rule6, rule7, rule8, rule9,\n",
        "                             rule10, rule11, rule12, rule13, rule14, rule15, rule16, rule17,\n",
        "                             rule18, rule19, rule20, rule21, rule22, rule23, rule24, rule25, rule26, rule27])\n",
        "avaliacao = ctrl.ControlSystemSimulation(sistema_fuzzy)\n",
        "\n",
        "def nota(apres, slide, soluc):\n",
        "  # Entrada dos valores para as variáveis de entrada\n",
        "  avaliacao.input['apresentacao'] = apres\n",
        "  avaliacao.input['slide'] = slide\n",
        "  avaliacao.input['solucao'] = soluc\n",
        "\n",
        "  # Computando o resultado do sistema fuzzy\n",
        "  avaliacao.compute()\n",
        "\n",
        "  # Obtendo o valor de saída (nota geral da apresentação)\n",
        "  nota_geral_da_apresentacao = avaliacao.output['nota']\n",
        "  #print(\"Nota geral da apresentação:\", nota_geral_da_apresentacao)\n",
        "\n",
        "  # Visualizando a função de pertinência de saída\n",
        "  #nota.view(sim=avaliacao)\n",
        "  return nota_geral_da_apresentacao\n",
        "\n",
        "# Personas de cada grupo e notas\n",
        "André = nota(8.5, 10, 9)\n",
        "Chaves = nota(9, 8.5, 9.5)\n",
        "Cleiton = nota(8.5, 9, 9.5)\n",
        "Sophia = nota(8, 10, 9)\n",
        "Jonas = nota(10, 10, 9)\n",
        "Esther = nota(8.5, 10, 9)\n",
        "\n",
        "print(f\"Nota por Persona:\\n André: {André:.2f},\\n Chaves: {Chaves:.2f},\\n Cleiton: {Cleiton:.2f},\\n Sophia: {Sophia:.2f},\\n Jonas: {Jonas:.2f},\\n Esther: {Esther:.2f}\")\n"
      ],
      "metadata": {
        "colab": {
          "base_uri": "https://localhost:8080/"
        },
        "id": "wdL2osnmOlvd",
        "outputId": "96334577-e60d-47ee-daf6-6ddf56fdcff1"
      },
      "execution_count": 4,
      "outputs": [
        {
          "output_type": "stream",
          "name": "stdout",
          "text": [
            "Nota por Persona:\n",
            " André: 8.22,\n",
            " Chaves: 7.22,\n",
            " Cleiton: 7.22,\n",
            " Sophia: 8.14,\n",
            " Jonas: 8.28,\n",
            " Esther: 8.22\n"
          ]
        }
      ]
    }
  ]
}